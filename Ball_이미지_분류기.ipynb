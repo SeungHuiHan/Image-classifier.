{
  "nbformat": 4,
  "nbformat_minor": 0,
  "metadata": {
    "colab": {
      "name": "Ball  이미지 분류기",
      "provenance": [],
      "collapsed_sections": [],
      "authorship_tag": "ABX9TyP6MFRHo2hYxuiG/lua/VIh",
      "include_colab_link": true
    },
    "kernelspec": {
      "name": "python3",
      "display_name": "Python 3"
    },
    "language_info": {
      "name": "python"
    }
  },
  "cells": [
    {
      "cell_type": "markdown",
      "metadata": {
        "id": "view-in-github",
        "colab_type": "text"
      },
      "source": [
        "<a href=\"https://colab.research.google.com/github/yaedam5/Image-classifier./blob/master/Ball_%EC%9D%B4%EB%AF%B8%EC%A7%80_%EB%B6%84%EB%A5%98%EA%B8%B0.ipynb\" target=\"_parent\"><img src=\"https://colab.research.google.com/assets/colab-badge.svg\" alt=\"Open In Colab\"/></a>"
      ]
    },
    {
      "cell_type": "markdown",
      "source": [
        "**0 모듈 불러오기**\n",
        "\n",
        "https://github.com/yaedam5/Image-Crawling\n"
      ],
      "metadata": {
        "id": "D96KvMMetenV"
      }
    },
    {
      "cell_type": "code",
      "execution_count": null,
      "metadata": {
        "colab": {
          "base_uri": "https://localhost:8080/"
        },
        "id": "bLWZzx_ctV-8",
        "outputId": "ae4f489d-1e4d-462c-a996-dde8accce77b"
      },
      "outputs": [
        {
          "output_type": "stream",
          "name": "stdout",
          "text": [
            "Requirement already satisfied: gdown in /usr/local/lib/python3.7/dist-packages (4.2.0)\n",
            "Requirement already satisfied: tqdm in /usr/local/lib/python3.7/dist-packages (from gdown) (4.62.3)\n",
            "Requirement already satisfied: six in /usr/local/lib/python3.7/dist-packages (from gdown) (1.15.0)\n",
            "Requirement already satisfied: beautifulsoup4 in /usr/local/lib/python3.7/dist-packages (from gdown) (4.6.3)\n",
            "Requirement already satisfied: requests[socks] in /usr/local/lib/python3.7/dist-packages (from gdown) (2.23.0)\n",
            "Requirement already satisfied: filelock in /usr/local/lib/python3.7/dist-packages (from gdown) (3.4.2)\n",
            "Requirement already satisfied: idna<3,>=2.5 in /usr/local/lib/python3.7/dist-packages (from requests[socks]->gdown) (2.10)\n",
            "Requirement already satisfied: urllib3!=1.25.0,!=1.25.1,<1.26,>=1.21.1 in /usr/local/lib/python3.7/dist-packages (from requests[socks]->gdown) (1.24.3)\n",
            "Requirement already satisfied: certifi>=2017.4.17 in /usr/local/lib/python3.7/dist-packages (from requests[socks]->gdown) (2021.10.8)\n",
            "Requirement already satisfied: chardet<4,>=3.0.2 in /usr/local/lib/python3.7/dist-packages (from requests[socks]->gdown) (3.0.4)\n",
            "Requirement already satisfied: PySocks!=1.5.7,>=1.5.6 in /usr/local/lib/python3.7/dist-packages (from requests[socks]->gdown) (1.7.1)\n"
          ]
        }
      ],
      "source": [
        "!pip install gdown"
      ]
    },
    {
      "cell_type": "code",
      "source": [
        "import os\n",
        "import zipfile"
      ],
      "metadata": {
        "id": "zPdqnQtOv_bt"
      },
      "execution_count": null,
      "outputs": []
    },
    {
      "cell_type": "code",
      "source": [
        "import tensorflow as tf\n",
        "import keras_preprocessing\n",
        "from keras_preprocessing import image\n",
        "from keras_preprocessing.image import ImageDataGenerator # 이미지 처리용 라이브러리"
      ],
      "metadata": {
        "id": "n8T9FONWwDuA"
      },
      "execution_count": null,
      "outputs": []
    },
    {
      "cell_type": "code",
      "source": [
        "# 파일을 다운 받는다.\n",
        "#https://drive.google.com/file/d/1ZreGn83uprB_7f5BDV_fcDwSGLe8BWVN/view?usp=sharing\n",
        "!gdown https://drive.google.com/uc?id=1ZreGn83uprB_7f5BDV_fcDwSGLe8BWVN"
      ],
      "metadata": {
        "colab": {
          "base_uri": "https://localhost:8080/"
        },
        "id": "dzNRn_SVwO5-",
        "outputId": "3ba7c7cf-7cdd-4775-b210-c01463390de2"
      },
      "execution_count": null,
      "outputs": [
        {
          "output_type": "stream",
          "name": "stdout",
          "text": [
            "Downloading...\n",
            "From: https://drive.google.com/uc?id=1ZreGn83uprB_7f5BDV_fcDwSGLe8BWVN\n",
            "To: /content/Ball.zip\n",
            "100% 100M/100M [00:01<00:00, 90.1MB/s] \n"
          ]
        }
      ]
    },
    {
      "cell_type": "code",
      "source": [
        "local_zip = 'Ball.zip' \n",
        "zip_ref = zipfile.ZipFile(local_zip, 'r') \n",
        "# ZipFile의 첫 번째 매개변수는 파일 자체의 경로. 두 번째 매개변수는 읽기 모드로 파일을 연다.\n",
        "zip_ref.extractall('')\n",
        "zip_ref.close()"
      ],
      "metadata": {
        "id": "P8i273CzwTVy"
      },
      "execution_count": null,
      "outputs": []
    },
    {
      "cell_type": "markdown",
      "source": [
        "**2 데이터 전처리**\n",
        "\n",
        "ImageDataGenerator:데이터 부풀리기\n",
        "\n",
        "shear_range : Float, Shear Intensity ( share angle in counter-clockwise direction as radians) 밀린강도 범위내에서 임의로 원본 이미지를 변형 시킵니다. 수치는 시계반대방향으로 밀림강도를 radian으로 나타냅니다.\n",
        "\n",
        "zoom_range : Float or [lower, upper]. Range for random zoom. if a float, 지정된 확대/축소 범위내에 임의로 원본이미지를 확대/ 축소 합니다. (1 - 수치) ~ (1+ 수치) 사이의 범위로 확대 축소를 합니다. ex> zoom_range = 0.3\n",
        "\n",
        "horizontal_flip : Boolean, Randomly flip inputs horizontally. 수평방향 뒤집기(true)\n",
        "\n",
        "vertical_flip : 수직 방향 뒤집기(true)\n",
        "\n",
        "rescale : rescaling factor. Defaults to None. If None or 0, no rescaling is applied, otherwise we multipy the data by the value provided (before applying any other transformation)\n",
        "\n",
        "rotaion_range : 지정된 각도 범위내에서 임의로 원본 이미지를 회전 시킵니다. 단위 도, 정수형 ex>rotaion_range=90\n",
        "\n",
        "width_shift_range : 지정된 수평방향 이동 범위 내에서 임의로 원본 이미지를 이동 시킵니다. 수치는 전체 넓이의 비율(실수)로 나타냅니다. ex> 0.1이면 전체 넓이 100의 10px 좌우로 이동\n",
        "\n",
        "hight_shift_range: 지정된 수직방향 이동 범위 내에서 임의로 원본 이미지를 이동 시킵니다. 수치는 전체 넓이의 비율(실수)로 나타냅니다"
      ],
      "metadata": {
        "id": "8xr-Qj4Kw2H4"
      }
    },
    {
      "cell_type": "code",
      "source": [
        "# train:test = 8:2, 총 데이터셋: 600개\n",
        "# ImageDataGenerator parameter 를 이용하면 따로 라벨을 정해주지않고 폴더에 라벨링 해준데로 라벨링이 됩니다.\n",
        "\n",
        "validation_ratio = 1/8  # validation_split 파라미터로 train set과 validation set을 나눌 수 있습니다.\n",
        "\n",
        "TRAINING_DIR = \"ball_train\" \n",
        "datagen = ImageDataGenerator(validation_split=validation_ratio,\n",
        "                             rescale = 1./255, # 0~1 사이값으로 픽셀값을 변환\n",
        "                             rotation_range=20,  #너무 크게 바꾸지 않고 20도 범위내에서만 회전 변환\n",
        "                             width_shift_range=0.1,  # 10% 범위에서 좌우 이동\n",
        "                             height_shift_range=0.1, # 10% 범위에서 상하 이동\n",
        "                             shear_range=0.7,        # 70% 범위에서 기울임\n",
        "                             zoom_range=[0.8, 2.0],  # 20%~120%범위에서 확대 축소\n",
        "                             horizontal_flip=True,   # 수평뒤집기\n",
        "                             vertical_flip=True,     # 수직뒤집기\n",
        "                            fill_mode='nearest')   # 변형하면서 이미지가 깨지는 것을 보상,주변에 있는 범위 참고\n",
        "# 사진은 0-255의 RGB 계수로 구성되는데, 이 같은 입력값은 모델을 효과적으로 학습시키기에 너무 높다 (통상적인 learning rate를 사용할 경우). \n",
        "# 그래서 이를 1/255로 스케일링하여 0-1 범위로 변환시켜준다. 이는 다른 전처리 과정에 앞서 가장 먼저 적용된다.  / 출처: https://keraskorea.github.io/posts/2018-10-24-little_data_powerful_model/\n",
        "\n",
        "train_generator = datagen.flow_from_directory(\n",
        "    TRAINING_DIR,\n",
        "    target_size=(256,256),  # 모든 이미지의 크기가 256x256로 조정된다.\n",
        "    class_mode='categorical', # 다중 클래스 문제는 class_mode는 ‘categorical’로 지정한다.\n",
        "    batch_size=24, # 몇 개의 샘플로 가중치를 갱신할 것인지 지정한다. 한 번에 전처리할 이미지의 수\n",
        "    subset='training'\n",
        ")\n",
        "\n",
        "validation_generator = datagen.flow_from_directory(\n",
        "    TRAINING_DIR,\n",
        "    target_size=(256,256),  # 모든 이미지의 크기가 256x256로 조정된다.\n",
        "    class_mode='categorical', # 다중 클래스 문제는 class_mode는 ‘categorical’로 지정한다.\n",
        "    batch_size=24, # 몇 개의 샘플로 가중치를 갱신할 것인지 지정한다.\n",
        "    subset='validation'\n",
        ")\n",
        "# 라벨링 categorical 다중라벨링\n",
        "# 라벨링 방법 : 폴더명의 첫 문자의 알파벳으로 0부터 부여\n",
        "\n",
        "\n",
        "TEST_DIR = \"ball_test\"\n",
        "test_datagen = ImageDataGenerator(rescale = 1./255)\n",
        "\n",
        "test_generator = test_datagen.flow_from_directory(\n",
        "    TEST_DIR,\n",
        "    target_size=(256,256),\n",
        "    class_mode='categorical',\n",
        "    batch_size=8\n",
        ")"
      ],
      "metadata": {
        "colab": {
          "base_uri": "https://localhost:8080/"
        },
        "id": "vZfTHaO6xIz-",
        "outputId": "a09b1404-25e5-4c3b-c65a-fb0ee7987e5f"
      },
      "execution_count": null,
      "outputs": [
        {
          "output_type": "stream",
          "name": "stdout",
          "text": [
            "Found 516 images belonging to 3 classes.\n",
            "Found 72 images belonging to 3 classes.\n",
            "Found 341 images belonging to 3 classes.\n"
          ]
        }
      ]
    },
    {
      "cell_type": "code",
      "source": [
        "#폴더명의 첫 문자의 알파벳으로 0부터 부여\n",
        "print(train_generator.class_indices)\n",
        "print(test_generator.class_indices)"
      ],
      "metadata": {
        "colab": {
          "base_uri": "https://localhost:8080/"
        },
        "id": "VtcU8J4wypO9",
        "outputId": "ffa66c53-ea36-493f-ce61-8200c73005c6"
      },
      "execution_count": null,
      "outputs": [
        {
          "output_type": "stream",
          "name": "stdout",
          "text": [
            "{'Soccer ball': 0, 'baseball': 1, 'basketball': 2}\n",
            "{'Soccer ball': 0, 'baseball': 1, 'basketball': 2}\n"
          ]
        }
      ]
    },
    {
      "cell_type": "markdown",
      "source": [
        "**3 모델 구축**"
      ],
      "metadata": {
        "id": "qX7GSUiX1b4i"
      }
    },
    {
      "cell_type": "code",
      "source": [
        "model = tf.keras.models.Sequential([ \n",
        "    # 64개의 필터 적용,  kernel_size = (3,3) 는 필터의 크기를 의미한다.\n",
        "    # input_shape(가로, 세로, 흑백(=1)or컬러(=3))\n",
        "    tf.keras.layers.Conv2D(64, (3,3), activation='relu', input_shape=(256, 256, 3)), \n",
        "    tf.keras.layers.MaxPooling2D(2, 2), \n",
        "    tf.keras.layers.Conv2D(64, (3,3), activation='relu'),\n",
        "    tf.keras.layers.MaxPooling2D(2,2),\n",
        "    tf.keras.layers.Conv2D(128, (3,3), activation='relu'),\n",
        "    tf.keras.layers.MaxPooling2D(2,2),\n",
        "    tf.keras.layers.Conv2D(128, (3,3), activation='relu'),\n",
        "    tf.keras.layers.MaxPooling2D(2,2),\n",
        "    # Flattn은 3차원 배열(가로,세로,컬러)인 이미지를 1차원 배열로 바꿔준다.\n",
        "    tf.keras.layers.Flatten(),\n",
        "    # Dropout()는 특정 노드에 학습이 지나치게 몰리는 것을 방지하기 위해 랜덤하게 일부 노드를 꺼준다.\n",
        "    # Dropout을 통해 과적합을 조금 더 효과적으로 회피할 수 있다. /  출처: https://snowdeer.github.io/machine-learning/2018/01/10/convolution-neural-network/\n",
        "    tf.keras.layers.Dropout(0.5),\n",
        "    # 출력뉴런 수 512개\n",
        "    tf.keras.layers.Dense(512, activation='relu'),\n",
        "    # 출력뉴런 수 3개(라벨 개수)\n",
        "    tf.keras.layers.Dense(3, activation='softmax') #softmax함수: 다중 클래스 분류 문제에서 출력층에 주로 쓰인다.\n",
        "])\n",
        "\n",
        "model.summary()"
      ],
      "metadata": {
        "colab": {
          "base_uri": "https://localhost:8080/"
        },
        "id": "kEnaINNy0SWs",
        "outputId": "e4b1f7a0-cf34-4151-ba70-4962f868be1e"
      },
      "execution_count": null,
      "outputs": [
        {
          "output_type": "stream",
          "name": "stdout",
          "text": [
            "Model: \"sequential\"\n",
            "_________________________________________________________________\n",
            " Layer (type)                Output Shape              Param #   \n",
            "=================================================================\n",
            " conv2d (Conv2D)             (None, 254, 254, 64)      1792      \n",
            "                                                                 \n",
            " max_pooling2d (MaxPooling2D  (None, 127, 127, 64)     0         \n",
            " )                                                               \n",
            "                                                                 \n",
            " conv2d_1 (Conv2D)           (None, 125, 125, 64)      36928     \n",
            "                                                                 \n",
            " max_pooling2d_1 (MaxPooling  (None, 62, 62, 64)       0         \n",
            " 2D)                                                             \n",
            "                                                                 \n",
            " conv2d_2 (Conv2D)           (None, 60, 60, 128)       73856     \n",
            "                                                                 \n",
            " max_pooling2d_2 (MaxPooling  (None, 30, 30, 128)      0         \n",
            " 2D)                                                             \n",
            "                                                                 \n",
            " conv2d_3 (Conv2D)           (None, 28, 28, 128)       147584    \n",
            "                                                                 \n",
            " max_pooling2d_3 (MaxPooling  (None, 14, 14, 128)      0         \n",
            " 2D)                                                             \n",
            "                                                                 \n",
            " flatten (Flatten)           (None, 25088)             0         \n",
            "                                                                 \n",
            " dropout (Dropout)           (None, 25088)             0         \n",
            "                                                                 \n",
            " dense (Dense)               (None, 512)               12845568  \n",
            "                                                                 \n",
            " dense_1 (Dense)             (None, 3)                 1539      \n",
            "                                                                 \n",
            "=================================================================\n",
            "Total params: 13,107,267\n",
            "Trainable params: 13,107,267\n",
            "Non-trainable params: 0\n",
            "_________________________________________________________________\n"
          ]
        }
      ]
    },
    {
      "cell_type": "code",
      "source": [
        "model.compile(loss = 'categorical_crossentropy', optimizer='rmsprop', metrics=['accuracy'])\n",
        "\n",
        "history = model.fit(train_generator, epochs=30, steps_per_epoch=15, verbose = 1, validation_data = validation_generator, validation_steps=3)\n",
        "# epochs : 학습 반복 횟수, (batch_size)*(step_per_epoch)=(Training_data)\n",
        "# steps_per_epoch : 한 epoch에 사용한 스텝 수를 지정한다.steps_per_epoch = 훈련 샘플 수 / 배치 사이즈\n",
        "# validation_steps : 한 epoch 종료 시 마다 검증할 때 사용되는 검증 스텝 수를 지정한다.\n",
        "# verbose : verbose : 학습 중 출력되는 문구를 설정한다.\n",
        "# 0 : 아무 것도 출력하지 않는다.\n",
        "# 1 : 훈련의 진행도를 보여주는 진행 막대를 보여준다.\n",
        "# 2 : 미니 배치마다 손실 정보를 출력한다.   /   출처: https://wikidocs.net/32105"
      ],
      "metadata": {
        "colab": {
          "base_uri": "https://localhost:8080/"
        },
        "id": "DQjtheSO1v8t",
        "outputId": "7b43ba6d-a862-404c-d147-dfa281fa6c9f"
      },
      "execution_count": null,
      "outputs": [
        {
          "output_type": "stream",
          "name": "stdout",
          "text": [
            "Epoch 1/30\n",
            " 8/15 [===============>..............] - ETA: 33s - loss: 2.9618 - accuracy: 0.3778"
          ]
        },
        {
          "output_type": "stream",
          "name": "stderr",
          "text": [
            "/usr/local/lib/python3.7/dist-packages/PIL/Image.py:960: UserWarning: Palette images with Transparency expressed in bytes should be converted to RGBA images\n",
            "  \"Palette images with Transparency expressed in bytes should be \"\n"
          ]
        },
        {
          "output_type": "stream",
          "name": "stdout",
          "text": [
            "13/15 [=========================>....] - ETA: 9s - loss: 2.2161 - accuracy: 0.3733 "
          ]
        },
        {
          "output_type": "stream",
          "name": "stderr",
          "text": [
            "/usr/local/lib/python3.7/dist-packages/PIL/TiffImagePlugin.py:770: UserWarning: Possibly corrupt EXIF data.  Expecting to read 32 bytes but only got 0. Skipping tag 270\n",
            "  \" Skipping tag %s\" % (size, len(data), tag)\n",
            "/usr/local/lib/python3.7/dist-packages/PIL/TiffImagePlugin.py:770: UserWarning: Possibly corrupt EXIF data.  Expecting to read 24 bytes but only got 0. Skipping tag 271\n",
            "  \" Skipping tag %s\" % (size, len(data), tag)\n",
            "/usr/local/lib/python3.7/dist-packages/PIL/TiffImagePlugin.py:770: UserWarning: Possibly corrupt EXIF data.  Expecting to read 17 bytes but only got 0. Skipping tag 272\n",
            "  \" Skipping tag %s\" % (size, len(data), tag)\n",
            "/usr/local/lib/python3.7/dist-packages/PIL/TiffImagePlugin.py:770: UserWarning: Possibly corrupt EXIF data.  Expecting to read 8 bytes but only got 0. Skipping tag 282\n",
            "  \" Skipping tag %s\" % (size, len(data), tag)\n",
            "/usr/local/lib/python3.7/dist-packages/PIL/TiffImagePlugin.py:770: UserWarning: Possibly corrupt EXIF data.  Expecting to read 8 bytes but only got 0. Skipping tag 283\n",
            "  \" Skipping tag %s\" % (size, len(data), tag)\n",
            "/usr/local/lib/python3.7/dist-packages/PIL/TiffImagePlugin.py:770: UserWarning: Possibly corrupt EXIF data.  Expecting to read 32 bytes but only got 0. Skipping tag 305\n",
            "  \" Skipping tag %s\" % (size, len(data), tag)\n",
            "/usr/local/lib/python3.7/dist-packages/PIL/TiffImagePlugin.py:770: UserWarning: Possibly corrupt EXIF data.  Expecting to read 20 bytes but only got 0. Skipping tag 306\n",
            "  \" Skipping tag %s\" % (size, len(data), tag)\n",
            "/usr/local/lib/python3.7/dist-packages/PIL/TiffImagePlugin.py:770: UserWarning: Possibly corrupt EXIF data.  Expecting to read 528 bytes but only got 0. Skipping tag 50341\n",
            "  \" Skipping tag %s\" % (size, len(data), tag)\n",
            "/usr/local/lib/python3.7/dist-packages/PIL/TiffImagePlugin.py:770: UserWarning: Possibly corrupt EXIF data.  Expecting to read 8 bytes but only got 0. Skipping tag 33434\n",
            "  \" Skipping tag %s\" % (size, len(data), tag)\n",
            "/usr/local/lib/python3.7/dist-packages/PIL/TiffImagePlugin.py:770: UserWarning: Possibly corrupt EXIF data.  Expecting to read 8 bytes but only got 0. Skipping tag 33437\n",
            "  \" Skipping tag %s\" % (size, len(data), tag)\n",
            "/usr/local/lib/python3.7/dist-packages/PIL/TiffImagePlugin.py:770: UserWarning: Possibly corrupt EXIF data.  Expecting to read 20 bytes but only got 0. Skipping tag 36867\n",
            "  \" Skipping tag %s\" % (size, len(data), tag)\n",
            "/usr/local/lib/python3.7/dist-packages/PIL/TiffImagePlugin.py:770: UserWarning: Possibly corrupt EXIF data.  Expecting to read 20 bytes but only got 0. Skipping tag 36868\n",
            "  \" Skipping tag %s\" % (size, len(data), tag)\n",
            "/usr/local/lib/python3.7/dist-packages/PIL/TiffImagePlugin.py:770: UserWarning: Possibly corrupt EXIF data.  Expecting to read 8 bytes but only got 0. Skipping tag 37380\n",
            "  \" Skipping tag %s\" % (size, len(data), tag)\n",
            "/usr/local/lib/python3.7/dist-packages/PIL/TiffImagePlugin.py:770: UserWarning: Possibly corrupt EXIF data.  Expecting to read 8 bytes but only got 0. Skipping tag 37381\n",
            "  \" Skipping tag %s\" % (size, len(data), tag)\n",
            "/usr/local/lib/python3.7/dist-packages/PIL/TiffImagePlugin.py:770: UserWarning: Possibly corrupt EXIF data.  Expecting to read 8 bytes but only got 0. Skipping tag 37386\n",
            "  \" Skipping tag %s\" % (size, len(data), tag)\n",
            "/usr/local/lib/python3.7/dist-packages/PIL/TiffImagePlugin.py:770: UserWarning: Possibly corrupt EXIF data.  Expecting to read 1538 bytes but only got 0. Skipping tag 37500\n",
            "  \" Skipping tag %s\" % (size, len(data), tag)\n",
            "/usr/local/lib/python3.7/dist-packages/PIL/TiffImagePlugin.py:770: UserWarning: Possibly corrupt EXIF data.  Expecting to read 125 bytes but only got 0. Skipping tag 37510\n",
            "  \" Skipping tag %s\" % (size, len(data), tag)\n",
            "/usr/local/lib/python3.7/dist-packages/PIL/TiffImagePlugin.py:770: UserWarning: Possibly corrupt EXIF data.  Expecting to read 8 bytes but only got 0. Skipping tag 41988\n",
            "  \" Skipping tag %s\" % (size, len(data), tag)\n",
            "/usr/local/lib/python3.7/dist-packages/PIL/TiffImagePlugin.py:788: UserWarning: Corrupt EXIF data.  Expecting to read 12 bytes but only got 2. \n",
            "  warnings.warn(str(msg))\n"
          ]
        },
        {
          "output_type": "stream",
          "name": "stdout",
          "text": [
            "15/15 [==============================] - 82s 5s/step - loss: 2.0566 - accuracy: 0.3851 - val_loss: 0.9891 - val_accuracy: 0.4028\n",
            "Epoch 2/30\n",
            "15/15 [==============================] - 79s 5s/step - loss: 1.0862 - accuracy: 0.4195 - val_loss: 4.2172 - val_accuracy: 0.4028\n",
            "Epoch 3/30\n",
            "15/15 [==============================] - 79s 5s/step - loss: 1.3314 - accuracy: 0.5029 - val_loss: 0.8352 - val_accuracy: 0.7083\n",
            "Epoch 4/30\n",
            "15/15 [==============================] - 78s 5s/step - loss: 0.8912 - accuracy: 0.6149 - val_loss: 0.8736 - val_accuracy: 0.5417\n",
            "Epoch 5/30\n",
            "15/15 [==============================] - 80s 5s/step - loss: 0.9020 - accuracy: 0.6250 - val_loss: 0.6238 - val_accuracy: 0.7778\n",
            "Epoch 6/30\n",
            "15/15 [==============================] - 82s 5s/step - loss: 0.7896 - accuracy: 0.6639 - val_loss: 0.6964 - val_accuracy: 0.6806\n",
            "Epoch 7/30\n",
            "15/15 [==============================] - 78s 5s/step - loss: 0.8537 - accuracy: 0.6810 - val_loss: 0.7393 - val_accuracy: 0.7083\n",
            "Epoch 8/30\n",
            "15/15 [==============================] - 78s 5s/step - loss: 0.7404 - accuracy: 0.7270 - val_loss: 1.1770 - val_accuracy: 0.5278\n",
            "Epoch 9/30\n",
            "15/15 [==============================] - 79s 5s/step - loss: 0.7922 - accuracy: 0.6897 - val_loss: 0.5099 - val_accuracy: 0.7778\n",
            "Epoch 10/30\n",
            "15/15 [==============================] - 81s 5s/step - loss: 0.7535 - accuracy: 0.6806 - val_loss: 0.5887 - val_accuracy: 0.7361\n",
            "Epoch 11/30\n",
            "15/15 [==============================] - 80s 5s/step - loss: 0.7063 - accuracy: 0.7444 - val_loss: 0.5966 - val_accuracy: 0.7361\n",
            "Epoch 12/30\n",
            "15/15 [==============================] - 80s 5s/step - loss: 0.6641 - accuracy: 0.7056 - val_loss: 0.5843 - val_accuracy: 0.7639\n",
            "Epoch 13/30\n",
            "15/15 [==============================] - 80s 5s/step - loss: 0.7454 - accuracy: 0.7389 - val_loss: 0.8640 - val_accuracy: 0.6111\n",
            "Epoch 14/30\n",
            "15/15 [==============================] - 78s 5s/step - loss: 0.6347 - accuracy: 0.7443 - val_loss: 0.7714 - val_accuracy: 0.6389\n",
            "Epoch 15/30\n",
            "15/15 [==============================] - 80s 5s/step - loss: 0.7395 - accuracy: 0.7250 - val_loss: 0.5665 - val_accuracy: 0.8056\n",
            "Epoch 16/30\n",
            "15/15 [==============================] - 78s 5s/step - loss: 0.6251 - accuracy: 0.7672 - val_loss: 0.7741 - val_accuracy: 0.6250\n",
            "Epoch 17/30\n",
            "15/15 [==============================] - 80s 5s/step - loss: 0.5952 - accuracy: 0.7667 - val_loss: 0.5892 - val_accuracy: 0.7500\n",
            "Epoch 18/30\n",
            "15/15 [==============================] - 78s 5s/step - loss: 0.5814 - accuracy: 0.7787 - val_loss: 0.6853 - val_accuracy: 0.7917\n",
            "Epoch 19/30\n",
            "15/15 [==============================] - 80s 5s/step - loss: 0.5675 - accuracy: 0.7472 - val_loss: 0.6239 - val_accuracy: 0.8194\n",
            "Epoch 20/30\n",
            "15/15 [==============================] - 80s 5s/step - loss: 0.4988 - accuracy: 0.8222 - val_loss: 0.8242 - val_accuracy: 0.6944\n",
            "Epoch 21/30\n",
            "15/15 [==============================] - 77s 5s/step - loss: 0.6146 - accuracy: 0.7644 - val_loss: 0.6401 - val_accuracy: 0.7500\n",
            "Epoch 22/30\n",
            "15/15 [==============================] - 77s 5s/step - loss: 0.4765 - accuracy: 0.8362 - val_loss: 0.8069 - val_accuracy: 0.6667\n",
            "Epoch 23/30\n",
            "15/15 [==============================] - 77s 5s/step - loss: 0.5259 - accuracy: 0.8161 - val_loss: 0.4737 - val_accuracy: 0.8194\n",
            "Epoch 24/30\n",
            "15/15 [==============================] - 80s 5s/step - loss: 0.5422 - accuracy: 0.8083 - val_loss: 0.5404 - val_accuracy: 0.8056\n",
            "Epoch 25/30\n",
            "15/15 [==============================] - 77s 5s/step - loss: 0.4880 - accuracy: 0.8161 - val_loss: 0.4330 - val_accuracy: 0.8194\n",
            "Epoch 26/30\n",
            "15/15 [==============================] - 78s 5s/step - loss: 0.4915 - accuracy: 0.8276 - val_loss: 0.4914 - val_accuracy: 0.8194\n",
            "Epoch 27/30\n",
            "15/15 [==============================] - 80s 5s/step - loss: 0.4786 - accuracy: 0.8167 - val_loss: 0.5242 - val_accuracy: 0.8194\n",
            "Epoch 28/30\n",
            "15/15 [==============================] - 80s 5s/step - loss: 0.4812 - accuracy: 0.8500 - val_loss: 0.4691 - val_accuracy: 0.7917\n",
            "Epoch 29/30\n",
            "15/15 [==============================] - 77s 5s/step - loss: 0.5316 - accuracy: 0.8247 - val_loss: 0.8074 - val_accuracy: 0.7639\n",
            "Epoch 30/30\n",
            "15/15 [==============================] - 77s 5s/step - loss: 0.4346 - accuracy: 0.8477 - val_loss: 0.5344 - val_accuracy: 0.7639\n"
          ]
        }
      ]
    },
    {
      "cell_type": "markdown",
      "source": [
        "**4 모델 시각화**"
      ],
      "metadata": {
        "id": "cOxHbc8ODWX9"
      }
    },
    {
      "cell_type": "code",
      "source": [
        "import matplotlib.pyplot as plt # 결과를 시각화 하기위한 라이브러리\n",
        "acc = history.history['accuracy']\n",
        "val_acc = history.history['val_accuracy']\n",
        "loss = history.history['loss']\n",
        "val_loss = history.history['val_loss']\n",
        "\n",
        "epochs = range(len(acc))\n",
        "\n",
        "plt.figure(1)\n",
        "plt.plot(epochs, acc, 'r', label='Training accuracy')\n",
        "plt.plot(epochs, val_acc, 'b', label='Validation accuracy')\n",
        "plt.legend(loc='best')\n",
        "plt.title('Training and validation accuracy') \n",
        "\n",
        "\n",
        "plt.figure(2)\n",
        "plt.plot(epochs, loss, 'g', label='Training loss')\n",
        "plt.plot(epochs, val_loss, 'y', label='Validation loss')\n",
        "plt.legend(loc='best')\n",
        "plt.title('Training and validation loss') \n",
        "\n",
        "\n",
        "\n",
        "plt.show()"
      ],
      "metadata": {
        "colab": {
          "base_uri": "https://localhost:8080/",
          "height": 545
        },
        "id": "jw3DAbGzBTLR",
        "outputId": "5fbd855d-2562-439f-e159-5fa29c86887c"
      },
      "execution_count": null,
      "outputs": [
        {
          "output_type": "display_data",
          "data": {
            "image/png": "[encoded data removed]",
            "text/plain": [
              "<Figure size 432x288 with 1 Axes>"
            ]
          },
          "metadata": {
            "needs_background": "light"
          }
        },
        {
          "output_type": "display_data",
          "data": {
            "image/png": "[encoded data removed]",
            "text/plain": [
              "<Figure size 432x288 with 1 Axes>"
            ]
          },
          "metadata": {
            "needs_background": "light"
          }
        }
      ]
    },
    {
      "cell_type": "markdown",
      "source": [
        "**5모델 성능 평가**"
      ],
      "metadata": {
        "id": "Ljtf9JuwDfQ5"
      }
    },
    {
      "cell_type": "code",
      "source": [
        "# 훈련된 모델을 test_generator로 평가한다.\n",
        "print(\"-- Evaluate(정확도) --\") \n",
        "scores = model.evaluate_generator(test_generator, steps=5) \n",
        "print(\"%s: %.2f%%\" %(model.metrics_names[1], scores[1]*100))"
      ],
      "metadata": {
        "colab": {
          "base_uri": "https://localhost:8080/"
        },
        "id": "FDZExeF9DprN",
        "outputId": "1c92c22f-405e-4ac1-8d6e-19910c7efb78"
      },
      "execution_count": null,
      "outputs": [
        {
          "output_type": "stream",
          "name": "stdout",
          "text": [
            "-- Evaluate(정확도) --\n"
          ]
        },
        {
          "output_type": "stream",
          "name": "stderr",
          "text": [
            "/usr/local/lib/python3.7/dist-packages/ipykernel_launcher.py:3: UserWarning: `Model.evaluate_generator` is deprecated and will be removed in a future version. Please use `Model.evaluate`, which supports generators.\n",
            "  This is separate from the ipykernel package so we can avoid doing imports until\n"
          ]
        },
        {
          "output_type": "stream",
          "name": "stdout",
          "text": [
            "accuracy: 70.00%\n"
          ]
        }
      ]
    },
    {
      "cell_type": "markdown",
      "source": [
        "**6 이미지 예측**"
      ],
      "metadata": {
        "id": "fjIuVfoAD1An"
      }
    },
    {
      "cell_type": "code",
      "source": [
        "# 훈련된 모델에 이미지를 입력하여 직접 결과를 볼 수 있다.\n",
        "\n",
        "import numpy as np\n",
        "from google.colab import files\n",
        "from keras.preprocessing import image\n",
        "from google.colab.patches import cv2_imshow\n",
        "import cv2\n",
        "\n",
        "categories = ['Soccer ball', 'baseball', 'basketball']\n",
        "uploaded = files.upload()\n",
        "\n",
        "for fn in uploaded.keys():\n",
        " \n",
        "  # predicting images\n",
        "  path = fn\n",
        "  img = image.load_img(path, target_size=(256, 256))\n",
        "  image_1 = cv2.imread(fn, cv2.IMREAD_REDUCED_COLOR_4)\n",
        "  x = image.img_to_array(img)\n",
        "  x = np.expand_dims(x, axis=0)\n",
        "\n",
        "  images = np.vstack([x])\n",
        "  pred = model.predict(images, batch_size=10)\n",
        "  \n",
        "  cv2_imshow(image_1)\n",
        "  result = [np.argmax(value) for value in pred]   # 예측 값중 가장 높은 클래스 반환\n",
        "  print('New Image : ',categories[result[0]])"
      ],
      "metadata": {
        "colab": {
          "resources": {
            "http://localhost:8080/nbextensions/google.colab/files.js": {
              "data": "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",
              "ok": true,
              "headers": [
                [
                  "content-type",
                  "application/javascript"
                ]
              ],
              "status": 200,
              "status_text": ""
            }
          },
          "base_uri": "https://localhost:8080/",
          "height": 181
        },
        "id": "A45RyFSeD7YJ",
        "outputId": "dd6f541c-b4b8-4d20-ef20-449468fd77b3"
      },
      "execution_count": null,
      "outputs": [
        {
          "output_type": "display_data",
          "data": {
            "text/html": [
              "\n",
              "     <input type=\"file\" id=\"files-d344198b-9c95-415a-bf5a-315880edb83d\" name=\"files[]\" multiple disabled\n",
              "        style=\"border:none\" />\n",
              "     <output id=\"result-d344198b-9c95-415a-bf5a-315880edb83d\">\n",
              "      Upload widget is only available when the cell has been executed in the\n",
              "      current browser session. Please rerun this cell to enable.\n",
              "      </output>\n",
              "      <script src=\"/nbextensions/google.colab/files.js\"></script> "
            ],
            "text/plain": [
              "<IPython.core.display.HTML object>"
            ]
          },
          "metadata": {}
        },
        {
          "output_type": "stream",
          "name": "stdout",
          "text": [
            "Saving 야구공2.jfif to 야구공2 (1).jfif\n"
          ]
        },
        {
          "output_type": "display_data",
          "data": {
            "image/png": "[encoded data removed]",
            "text/plain": [
              "<PIL.Image.Image image mode=RGB size=85x85 at 0x7FBB982B0290>"
            ]
          },
          "metadata": {}
        },
        {
          "output_type": "stream",
          "name": "stdout",
          "text": [
            "New Image :  baseball\n"
          ]
        }
      ]
    }
  ]
}