{
  "nbformat": 4,
  "nbformat_minor": 0,
  "metadata": {
    "colab": {
      "name": "Untitled0.ipynb",
      "provenance": []
    },
    "kernelspec": {
      "name": "python3",
      "display_name": "Python 3"
    },
    "language_info": {
      "name": "python"
    }
  },
  "cells": [
    {
      "cell_type": "markdown",
      "source": [
        " **1 모듈 불러오기**"
      ],
      "metadata": {
        "id": "8DFVsGC_eYLU"
      }
    },
    {
      "cell_type": "code",
      "source": [
        "!pip install gdown"
      ],
      "metadata": {
        "colab": {
          "base_uri": "https://localhost:8080/"
        },
        "id": "pTk-4Tp6edpw",
        "outputId": "ca087786-476e-4aac-a11c-b12597baced1"
      },
      "execution_count": 1,
      "outputs": [
        {
          "output_type": "stream",
          "name": "stdout",
          "text": [
            "Requirement already satisfied: gdown in /usr/local/lib/python3.7/dist-packages (4.2.0)\n",
            "Requirement already satisfied: six in /usr/local/lib/python3.7/dist-packages (from gdown) (1.15.0)\n",
            "Requirement already satisfied: filelock in /usr/local/lib/python3.7/dist-packages (from gdown) (3.4.2)\n",
            "Requirement already satisfied: tqdm in /usr/local/lib/python3.7/dist-packages (from gdown) (4.62.3)\n",
            "Requirement already satisfied: beautifulsoup4 in /usr/local/lib/python3.7/dist-packages (from gdown) (4.6.3)\n",
            "Requirement already satisfied: requests[socks] in /usr/local/lib/python3.7/dist-packages (from gdown) (2.23.0)\n",
            "Requirement already satisfied: urllib3!=1.25.0,!=1.25.1,<1.26,>=1.21.1 in /usr/local/lib/python3.7/dist-packages (from requests[socks]->gdown) (1.24.3)\n",
            "Requirement already satisfied: certifi>=2017.4.17 in /usr/local/lib/python3.7/dist-packages (from requests[socks]->gdown) (2021.10.8)\n",
            "Requirement already satisfied: idna<3,>=2.5 in /usr/local/lib/python3.7/dist-packages (from requests[socks]->gdown) (2.10)\n",
            "Requirement already satisfied: chardet<4,>=3.0.2 in /usr/local/lib/python3.7/dist-packages (from requests[socks]->gdown) (3.0.4)\n",
            "Requirement already satisfied: PySocks!=1.5.7,>=1.5.6 in /usr/local/lib/python3.7/dist-packages (from requests[socks]->gdown) (1.7.1)\n"
          ]
        }
      ]
    },
    {
      "cell_type": "code",
      "source": [
        "import os\n",
        "import zipfile"
      ],
      "metadata": {
        "id": "Jh_69WOLejdJ"
      },
      "execution_count": 2,
      "outputs": []
    },
    {
      "cell_type": "code",
      "source": [
        "import tensorflow as tf\n",
        "import keras_preprocessing\n",
        "from keras_preprocessing import image\n",
        "from keras_preprocessing.image import ImageDataGenerator"
      ],
      "metadata": {
        "id": "Q0Rqb5RqemQB"
      },
      "execution_count": 3,
      "outputs": []
    },
    {
      "cell_type": "markdown",
      "source": [
        "**1 파일 다운받기**"
      ],
      "metadata": {
        "id": "3rhCnzi6jRsL"
      }
    },
    {
      "cell_type": "code",
      "source": [
        "#https://drive.google.com/file/d/1r2fd-WrIvTG5Y0kKmJgYeI4jH5CfPZ48/view?usp=sharing\n",
        "## 파일을 다운 받습니다.\n",
        "!gdown https://drive.google.com/uc?id=1r2fd-WrIvTG5Y0kKmJgYeI4jH5CfPZ48"
      ],
      "metadata": {
        "colab": {
          "base_uri": "https://localhost:8080/"
        },
        "id": "QfyC9TRfeqJs",
        "outputId": "eefa3e0b-2aab-4b1a-a561-d4cd4ad28219"
      },
      "execution_count": 4,
      "outputs": [
        {
          "output_type": "stream",
          "name": "stdout",
          "text": [
            "Downloading...\n",
            "From: https://drive.google.com/uc?id=1r2fd-WrIvTG5Y0kKmJgYeI4jH5CfPZ48\n",
            "To: /content/Ball.zip\n",
            "100% 100M/100M [00:03<00:00, 29.9MB/s] \n"
          ]
        }
      ]
    },
    {
      "cell_type": "code",
      "source": [
        "local_zip = 'Ball.zip' \n",
        "zip_ref = zipfile.ZipFile(local_zip, 'r') \n",
        "# ZipFile의 첫 번째 매개변수는 파일 자체의 경로입니다. 두 번째 매개변수는 읽기 모드로 파일을 엽니다.\n",
        "zip_ref.extractall('')\n",
        "zip_ref.close()"
      ],
      "metadata": {
        "id": "rGFhYfmPfHIF"
      },
      "execution_count": 5,
      "outputs": []
    },
    {
      "cell_type": "markdown",
      "source": [
        "**2 데이터 전처리**"
      ],
      "metadata": {
        "id": "8AAX1X5kjeP6"
      }
    },
    {
      "cell_type": "markdown",
      "source": [
        "ImageDataGenerator:데이터 부풀리기\n",
        "\n",
        "shear_range : Float, Shear Intensity ( share angle in counter-clockwise direction as radians) 밀린강도 범위내에서 임의로 원본 이미지를 변형 시킵니다. 수치는 시계반대방향으로 밀림강도를 radian으로 나타냅니다. \n",
        "\n",
        "zoom_range : Float or [lower, upper]. Range for random zoom. if a float, 지정된 확대/축소 범위내에 임의로 원본이미지를 확대/ 축소 합니다. (1 - 수치) ~ (1+ 수치) 사이의 범위로 확대 축소를 합니다. ex> zoom_range = 0.3\n",
        "\n",
        "horizontal_flip : Boolean, Randomly flip inputs \n",
        "horizontally. 수평방향 뒤집기(true)\n",
        "\n",
        "vertical_flip :  수직 방향 뒤집기(true)\n",
        "\n",
        "rescale : rescaling factor. Defaults to None. If None or 0, no rescaling is applied, otherwise we multipy the data by the value provided (before applying any other transformation)\n",
        "\n",
        "rotaion_range : 지정된 각도 범위내에서 임의로 원본 이미지를 회전 시킵니다. 단위 도, 정수형 ex>rotaion_range=90\n",
        "\n",
        "width_shift_range : 지정된 수평방향 이동 범위 내에서 임의로 원본 이미지를 이동 시킵니다. 수치는 전체 넓이의 비율(실수)로 나타냅니다. ex> 0.1이면 전체 넓이 100의 10px 좌우로 이동\n",
        "\n",
        "hight_shift_range: 지정된 수직방향 이동 범위 내에서 임의로 원본 이미지를 이동 시킵니다. 수치는 전체 넓이의 비율(실수)로 나타냅니다"
      ],
      "metadata": {
        "id": "hDnF6UdPsD7-"
      }
    },
    {
      "cell_type": "code",
      "source": [
        "# train:test = 8:2, 총 데이터셋: 600개\n",
        "\n",
        "# 를 이용하면 따로 라벨을 정해주지않고 폴더에 라벨링 해준데로 라벨링이 됩니다.\n",
        "# ImageDataGenerator parameter\n",
        "\n",
        "validation_ratio = 1/8  # validation_split 파라미터로 train set과 validation set을 나눌 수 있습니다.\n",
        "\n",
        "TRAINING_DIR = \"ball_train\" \n",
        "datagen = ImageDataGenerator(validation_split=validation_ratio,\n",
        "                             rescale = 1./255,\n",
        "                             rotation_range=15,\n",
        "                             width_shift_range=0.1,\n",
        "                             height_shift_range=0.1,\n",
        "                             shear_range=0.5,\n",
        "                             zoom_range=[0.8, 2.0],\n",
        "                             horizontal_flip=True,\n",
        "                             vertical_flip=True,\n",
        "                            fill_mode='nearest')\n",
        "# 본 영상은 0-255의 RGB 계수로 구성되는데, 이 같은 입력값은 모델을 효과적으로 학습시키기에 너무 높습니다 (통상적인 learning rate를 사용할 경우). \n",
        "# 그래서 이를 1/255로 스케일링하여 0-1 범위로 변환시켜줍니다. 이는 다른 전처리 과정에 앞서 가장 먼저 적용됩니다.  / 출처: https://keraskorea.github.io/posts/2018-10-24-little_data_powerful_model/\n",
        "\n",
        "train_generator = datagen.flow_from_directory(\n",
        "    TRAINING_DIR,\n",
        "    target_size=(256,256),  # 모든 이미지의 크기가 256x256로 조정됩니다.\n",
        "    class_mode='categorical', # 다중 클래스 문제는 class_mode는 ‘categorical’로 지정합니다.\n",
        "    batch_size=24, # 몇 개의 샘플로 가중치를 갱신할 것인지 지정합니다.\n",
        "    subset='training'\n",
        ")\n",
        "\n",
        "validation_generator = datagen.flow_from_directory(\n",
        "    TRAINING_DIR,\n",
        "    target_size=(256,256),  # 모든 이미지의 크기가 256x256로 조정됩니다.\n",
        "    class_mode='categorical', # 다중 클래스 문제는 class_mode는 ‘categorical’로 지정합니다.\n",
        "    batch_size=24, # 몇 개의 샘플로 가중치를 갱신할 것인지 지정합니다.\n",
        "    subset='validation'\n",
        ")\n",
        "\n",
        "TEST_DIR = \"ball_test\"\n",
        "test_datagen = ImageDataGenerator(rescale = 1./255)\n",
        "\n",
        "test_generator = test_datagen.flow_from_directory(\n",
        "    TEST_DIR,\n",
        "    target_size=(256,256),\n",
        "    class_mode='categorical',\n",
        "    batch_size=8\n",
        ")\n"
      ],
      "metadata": {
        "colab": {
          "base_uri": "https://localhost:8080/"
        },
        "id": "TCx2b-4rhQiy",
        "outputId": "aeae906d-e0d6-451f-8911-7841049a8183"
      },
      "execution_count": 6,
      "outputs": [
        {
          "output_type": "stream",
          "name": "stdout",
          "text": [
            "Found 516 images belonging to 3 classes.\n",
            "Found 72 images belonging to 3 classes.\n",
            "Found 341 images belonging to 3 classes.\n"
          ]
        }
      ]
    },
    {
      "cell_type": "markdown",
      "source": [
        "**3 모델 구축**"
      ],
      "metadata": {
        "id": "EDzEOEAujmjd"
      }
    },
    {
      "cell_type": "code",
      "source": [
        "model = tf.keras.models.Sequential([ \n",
        "    # 64개의 필터 적용,  kernel_size = (3,3) 는 필터의 크기를 의미합니다.\n",
        "    # input_shape(가로, 세로, 흑백(=1)or컬러(=3))\n",
        "    tf.keras.layers.Conv2D(64, (3,3), activation='relu', input_shape=(256, 256, 3)), \n",
        "    tf.keras.layers.MaxPooling2D(2, 2), \n",
        "    tf.keras.layers.Conv2D(64, (3,3), activation='relu'),\n",
        "    tf.keras.layers.MaxPooling2D(2,2),\n",
        "    tf.keras.layers.Conv2D(128, (3,3), activation='relu'),\n",
        "    tf.keras.layers.MaxPooling2D(2,2),\n",
        "    tf.keras.layers.Conv2D(128, (3,3), activation='relu'),\n",
        "    tf.keras.layers.MaxPooling2D(2,2),\n",
        "    # Flattn은 3차원 배열(가로,세로,컬러)인 이미지를 1차원 배열로 바꿔줍니다.\n",
        "    tf.keras.layers.Flatten(),\n",
        "    # Dropout()는 특정 노드에 학습이 지나치게 몰리는 것을 방지하기 위해 랜덤하게 일부 노드를 꺼줍니다.\n",
        "    # Dropout을 통해 과적합을 조금 더 효과적으로 회피할 수 있습니다. /  출처: https://snowdeer.github.io/machine-learning/2018/01/10/convolution-neural-network/\n",
        "    tf.keras.layers.Dropout(0.5),\n",
        "    # 출력뉴런 수 512개\n",
        "    tf.keras.layers.Dense(512, activation='relu'),\n",
        "    # 출력뉴런 수 2개(라벨 개수)\n",
        "    tf.keras.layers.Dense(3, activation='softmax')\n",
        "])\n",
        "\n",
        "\n",
        "model.compile(loss = 'categorical_crossentropy', optimizer='rmsprop', metrics=['accuracy'])\n",
        "\n",
        "history = model.fit(train_generator, epochs=20, steps_per_epoch=15, verbose = 1, validation_data = validation_generator, validation_steps=3)\n",
        "# epochs : 학습 반복 횟수, (batch_size)*(step_per_epoch)=(Training_data)\n",
        "# steps_per_epoch : 한 epoch에 사용한 스텝 수를 지정합니다\n",
        "# validation_steps : 한 epoch 종료 시 마다 검증할 때 사용되는 검증 스텝 수를 지정합니다.\n",
        "# verbose : verbose : 학습 중 출력되는 문구를 설정합니다.\n",
        "# 0 : 아무 것도 출력하지 않습니다.\n",
        "# 1 : 훈련의 진행도를 보여주는 진행 막대를 보여줍니다.\n",
        "# 2 : 미니 배치마다 손실 정보를 출력합니다.   /   출처: https://wikidocs.net/32105\n"
      ],
      "metadata": {
        "colab": {
          "base_uri": "https://localhost:8080/"
        },
        "id": "PVeq7TtujHOA",
        "outputId": "02bdd942-f1d7-4eb3-9386-f73c7270d776"
      },
      "execution_count": 7,
      "outputs": [
        {
          "output_type": "stream",
          "name": "stderr",
          "text": [
            "/usr/local/lib/python3.7/dist-packages/PIL/Image.py:960: UserWarning: Palette images with Transparency expressed in bytes should be converted to RGBA images\n",
            "  \"Palette images with Transparency expressed in bytes should be \"\n"
          ]
        },
        {
          "output_type": "stream",
          "name": "stdout",
          "text": [
            "Epoch 1/20\n",
            " 1/15 [=>............................] - ETA: 1:35 - loss: 1.0796 - accuracy: 0.3333"
          ]
        },
        {
          "output_type": "stream",
          "name": "stderr",
          "text": [
            "/usr/local/lib/python3.7/dist-packages/PIL/TiffImagePlugin.py:770: UserWarning: Possibly corrupt EXIF data.  Expecting to read 32 bytes but only got 0. Skipping tag 270\n",
            "  \" Skipping tag %s\" % (size, len(data), tag)\n",
            "/usr/local/lib/python3.7/dist-packages/PIL/TiffImagePlugin.py:770: UserWarning: Possibly corrupt EXIF data.  Expecting to read 24 bytes but only got 0. Skipping tag 271\n",
            "  \" Skipping tag %s\" % (size, len(data), tag)\n",
            "/usr/local/lib/python3.7/dist-packages/PIL/TiffImagePlugin.py:770: UserWarning: Possibly corrupt EXIF data.  Expecting to read 17 bytes but only got 0. Skipping tag 272\n",
            "  \" Skipping tag %s\" % (size, len(data), tag)\n",
            "/usr/local/lib/python3.7/dist-packages/PIL/TiffImagePlugin.py:770: UserWarning: Possibly corrupt EXIF data.  Expecting to read 8 bytes but only got 0. Skipping tag 282\n",
            "  \" Skipping tag %s\" % (size, len(data), tag)\n",
            "/usr/local/lib/python3.7/dist-packages/PIL/TiffImagePlugin.py:770: UserWarning: Possibly corrupt EXIF data.  Expecting to read 8 bytes but only got 0. Skipping tag 283\n",
            "  \" Skipping tag %s\" % (size, len(data), tag)\n",
            "/usr/local/lib/python3.7/dist-packages/PIL/TiffImagePlugin.py:770: UserWarning: Possibly corrupt EXIF data.  Expecting to read 32 bytes but only got 0. Skipping tag 305\n",
            "  \" Skipping tag %s\" % (size, len(data), tag)\n",
            "/usr/local/lib/python3.7/dist-packages/PIL/TiffImagePlugin.py:770: UserWarning: Possibly corrupt EXIF data.  Expecting to read 20 bytes but only got 0. Skipping tag 306\n",
            "  \" Skipping tag %s\" % (size, len(data), tag)\n",
            "/usr/local/lib/python3.7/dist-packages/PIL/TiffImagePlugin.py:770: UserWarning: Possibly corrupt EXIF data.  Expecting to read 528 bytes but only got 0. Skipping tag 50341\n",
            "  \" Skipping tag %s\" % (size, len(data), tag)\n",
            "/usr/local/lib/python3.7/dist-packages/PIL/TiffImagePlugin.py:770: UserWarning: Possibly corrupt EXIF data.  Expecting to read 8 bytes but only got 0. Skipping tag 33434\n",
            "  \" Skipping tag %s\" % (size, len(data), tag)\n",
            "/usr/local/lib/python3.7/dist-packages/PIL/TiffImagePlugin.py:770: UserWarning: Possibly corrupt EXIF data.  Expecting to read 8 bytes but only got 0. Skipping tag 33437\n",
            "  \" Skipping tag %s\" % (size, len(data), tag)\n",
            "/usr/local/lib/python3.7/dist-packages/PIL/TiffImagePlugin.py:770: UserWarning: Possibly corrupt EXIF data.  Expecting to read 20 bytes but only got 0. Skipping tag 36867\n",
            "  \" Skipping tag %s\" % (size, len(data), tag)\n",
            "/usr/local/lib/python3.7/dist-packages/PIL/TiffImagePlugin.py:770: UserWarning: Possibly corrupt EXIF data.  Expecting to read 20 bytes but only got 0. Skipping tag 36868\n",
            "  \" Skipping tag %s\" % (size, len(data), tag)\n",
            "/usr/local/lib/python3.7/dist-packages/PIL/TiffImagePlugin.py:770: UserWarning: Possibly corrupt EXIF data.  Expecting to read 8 bytes but only got 0. Skipping tag 37380\n",
            "  \" Skipping tag %s\" % (size, len(data), tag)\n",
            "/usr/local/lib/python3.7/dist-packages/PIL/TiffImagePlugin.py:770: UserWarning: Possibly corrupt EXIF data.  Expecting to read 8 bytes but only got 0. Skipping tag 37381\n",
            "  \" Skipping tag %s\" % (size, len(data), tag)\n",
            "/usr/local/lib/python3.7/dist-packages/PIL/TiffImagePlugin.py:770: UserWarning: Possibly corrupt EXIF data.  Expecting to read 8 bytes but only got 0. Skipping tag 37386\n",
            "  \" Skipping tag %s\" % (size, len(data), tag)\n",
            "/usr/local/lib/python3.7/dist-packages/PIL/TiffImagePlugin.py:770: UserWarning: Possibly corrupt EXIF data.  Expecting to read 1538 bytes but only got 0. Skipping tag 37500\n",
            "  \" Skipping tag %s\" % (size, len(data), tag)\n",
            "/usr/local/lib/python3.7/dist-packages/PIL/TiffImagePlugin.py:770: UserWarning: Possibly corrupt EXIF data.  Expecting to read 125 bytes but only got 0. Skipping tag 37510\n",
            "  \" Skipping tag %s\" % (size, len(data), tag)\n",
            "/usr/local/lib/python3.7/dist-packages/PIL/TiffImagePlugin.py:770: UserWarning: Possibly corrupt EXIF data.  Expecting to read 8 bytes but only got 0. Skipping tag 41988\n",
            "  \" Skipping tag %s\" % (size, len(data), tag)\n",
            "/usr/local/lib/python3.7/dist-packages/PIL/TiffImagePlugin.py:788: UserWarning: Corrupt EXIF data.  Expecting to read 12 bytes but only got 2. \n",
            "  warnings.warn(str(msg))\n"
          ]
        },
        {
          "output_type": "stream",
          "name": "stdout",
          "text": [
            "15/15 [==============================] - 74s 5s/step - loss: 3.6826 - accuracy: 0.4023 - val_loss: 1.5015 - val_accuracy: 0.4028\n",
            "Epoch 2/20\n",
            "15/15 [==============================] - 71s 5s/step - loss: 1.0967 - accuracy: 0.4856 - val_loss: 0.8736 - val_accuracy: 0.6111\n",
            "Epoch 3/20\n",
            "15/15 [==============================] - 73s 5s/step - loss: 1.0682 - accuracy: 0.4972 - val_loss: 0.8469 - val_accuracy: 0.5278\n",
            "Epoch 4/20\n",
            "15/15 [==============================] - 71s 5s/step - loss: 1.1335 - accuracy: 0.5057 - val_loss: 0.9080 - val_accuracy: 0.6389\n",
            "Epoch 5/20\n",
            "15/15 [==============================] - 71s 5s/step - loss: 0.8954 - accuracy: 0.5603 - val_loss: 0.8630 - val_accuracy: 0.6389\n",
            "Epoch 6/20\n",
            "15/15 [==============================] - 70s 5s/step - loss: 0.9605 - accuracy: 0.5891 - val_loss: 0.9469 - val_accuracy: 0.5694\n",
            "Epoch 7/20\n",
            "15/15 [==============================] - 70s 5s/step - loss: 0.8967 - accuracy: 0.6149 - val_loss: 0.9356 - val_accuracy: 0.5972\n",
            "Epoch 8/20\n",
            "15/15 [==============================] - 70s 5s/step - loss: 0.8398 - accuracy: 0.6408 - val_loss: 0.8926 - val_accuracy: 0.6667\n",
            "Epoch 9/20\n",
            "15/15 [==============================] - 70s 5s/step - loss: 0.7329 - accuracy: 0.6782 - val_loss: 0.7397 - val_accuracy: 0.7222\n",
            "Epoch 10/20\n",
            "15/15 [==============================] - 73s 5s/step - loss: 0.7842 - accuracy: 0.6782 - val_loss: 0.6311 - val_accuracy: 0.7361\n",
            "Epoch 11/20\n",
            "15/15 [==============================] - 73s 5s/step - loss: 0.7371 - accuracy: 0.6972 - val_loss: 0.7792 - val_accuracy: 0.7083\n",
            "Epoch 12/20\n",
            "15/15 [==============================] - 71s 5s/step - loss: 0.6519 - accuracy: 0.7500 - val_loss: 0.5796 - val_accuracy: 0.8194\n",
            "Epoch 13/20\n",
            "15/15 [==============================] - 73s 5s/step - loss: 0.8793 - accuracy: 0.6861 - val_loss: 0.6493 - val_accuracy: 0.6944\n",
            "Epoch 14/20\n",
            "15/15 [==============================] - 71s 5s/step - loss: 0.5725 - accuracy: 0.7557 - val_loss: 0.5937 - val_accuracy: 0.7361\n",
            "Epoch 15/20\n",
            "15/15 [==============================] - 71s 5s/step - loss: 0.7448 - accuracy: 0.7356 - val_loss: 0.6048 - val_accuracy: 0.7500\n",
            "Epoch 16/20\n",
            "15/15 [==============================] - 73s 5s/step - loss: 0.5580 - accuracy: 0.7889 - val_loss: 0.5636 - val_accuracy: 0.8056\n",
            "Epoch 17/20\n",
            "15/15 [==============================] - 70s 5s/step - loss: 0.5821 - accuracy: 0.7730 - val_loss: 0.8092 - val_accuracy: 0.7639\n",
            "Epoch 18/20\n",
            "15/15 [==============================] - 72s 5s/step - loss: 0.5895 - accuracy: 0.7730 - val_loss: 0.6097 - val_accuracy: 0.8333\n",
            "Epoch 19/20\n",
            "15/15 [==============================] - 73s 5s/step - loss: 0.6242 - accuracy: 0.7750 - val_loss: 0.6350 - val_accuracy: 0.7917\n",
            "Epoch 20/20\n",
            "15/15 [==============================] - 74s 5s/step - loss: 0.5909 - accuracy: 0.7944 - val_loss: 0.7809 - val_accuracy: 0.7361\n"
          ]
        }
      ]
    },
    {
      "cell_type": "markdown",
      "source": [
        "**4 모델 시각화**"
      ],
      "metadata": {
        "id": "t5YF6V4Dp_g4"
      }
    },
    {
      "cell_type": "code",
      "source": [
        "import matplotlib.pyplot as plt # 결과를 시각화 하기위한 라이브러리\n",
        "acc = history.history['accuracy']\n",
        "val_acc = history.history['val_accuracy']\n",
        "loss = history.history['loss']\n",
        "val_loss = history.history['val_loss']\n",
        "\n",
        "epochs = range(len(acc))\n",
        "\n",
        "plt.figure(1)\n",
        "plt.plot(epochs, acc, 'r', label='Training accuracy')\n",
        "plt.plot(epochs, val_acc, 'b', label='Validation accuracy')\n",
        "plt.legend(loc='best')\n",
        "plt.title('Training and validation accuracy') \n",
        "\n",
        "\n",
        "plt.figure(2)\n",
        "plt.plot(epochs, loss, 'g', label='Training loss')\n",
        "plt.plot(epochs, val_loss, 'y', label='Validation loss')\n",
        "plt.legend(loc='best')\n",
        "plt.title('Training and validation loss') \n",
        "\n",
        "\n",
        "\n",
        "plt.show()"
      ],
      "metadata": {
        "colab": {
          "base_uri": "https://localhost:8080/",
          "height": 545
        },
        "id": "TdeyclU_qEoD",
        "outputId": "2e95f5c6-e2fb-4ff4-a85b-1dd71ac74377"
      },
      "execution_count": 8,
      "outputs": [
        {
          "output_type": "display_data",
          "data": {
            "image/png": "[encoded data removed]",
            "text/plain": [
              "<Figure size 432x288 with 1 Axes>"
            ]
          },
          "metadata": {
            "needs_background": "light"
          }
        },
        {
          "output_type": "display_data",
          "data": {
            "image/png": "[encoded data removed]",
            "text/plain": [
              "<Figure size 432x288 with 1 Axes>"
            ]
          },
          "metadata": {
            "needs_background": "light"
          }
        }
      ]
    },
    {
      "cell_type": "markdown",
      "source": [
        "**5모델 성능 평가**"
      ],
      "metadata": {
        "id": "7hZ-lWpgqSb3"
      }
    },
    {
      "cell_type": "code",
      "source": [
        "# 훈련된 모델을 test_generator로 평가합니다.\n",
        "print(\"-- Evaluate(정확도) --\") \n",
        "scores = model.evaluate_generator(test_generator, steps=5) \n",
        "print(\"%s: %.2f%%\" %(model.metrics_names[1], scores[1]*100))"
      ],
      "metadata": {
        "colab": {
          "base_uri": "https://localhost:8080/"
        },
        "id": "lC5KY9XTqVX3",
        "outputId": "ac35adaa-a9a4-4ad1-85b2-7fafbf6d2158"
      },
      "execution_count": 9,
      "outputs": [
        {
          "output_type": "stream",
          "name": "stdout",
          "text": [
            "-- Evaluate(정확도) --\n"
          ]
        },
        {
          "output_type": "stream",
          "name": "stderr",
          "text": [
            "/usr/local/lib/python3.7/dist-packages/ipykernel_launcher.py:3: UserWarning: `Model.evaluate_generator` is deprecated and will be removed in a future version. Please use `Model.evaluate`, which supports generators.\n",
            "  This is separate from the ipykernel package so we can avoid doing imports until\n"
          ]
        },
        {
          "output_type": "stream",
          "name": "stdout",
          "text": [
            "accuracy: 77.50%\n"
          ]
        }
      ]
    }
  ]
}